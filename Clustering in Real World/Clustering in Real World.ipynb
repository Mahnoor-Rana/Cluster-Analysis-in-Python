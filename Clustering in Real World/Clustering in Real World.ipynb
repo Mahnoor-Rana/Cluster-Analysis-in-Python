{
 "cells": [
  {
   "cell_type": "markdown",
   "id": "e31fd465",
   "metadata": {},
   "source": [
    "## Extract RGB values from image\n",
    "There are broadly three steps to find the dominant colors in an image:\n",
    "\n",
    "Extract RGB values into three lists.\n",
    "Perform k-means clustering on scaled RGB values.\n",
    "Display the colors of cluster centers.\n",
    "To extract RGB values, we use the imread() function of the image class of matplotlib. Empty lists, r, g and b have been initialized."
   ]
  },
  {
   "cell_type": "code",
   "execution_count": null,
   "id": "c82c92de",
   "metadata": {},
   "outputs": [],
   "source": [
    "import pandas as pd\n",
    "import numpy as np \n",
    "import matplotlib.pyplot as plt\n",
    "import seaborn as sns\n",
    "import tensorflow\n",
    "from tensorflow import keras"
   ]
  },
  {
   "cell_type": "code",
   "execution_count": null,
   "id": "84a29e49",
   "metadata": {
    "scrolled": true
   },
   "outputs": [],
   "source": [
    "batman_df = pd.read_csv('movies_plot.csv')\n",
    "batman_df.head()"
   ]
  },
  {
   "cell_type": "code",
   "execution_count": null,
   "id": "7da0875a",
   "metadata": {},
   "outputs": [],
   "source": [
    "batman_df.tail()"
   ]
  },
  {
   "cell_type": "code",
   "execution_count": null,
   "id": "bf7957c2",
   "metadata": {},
   "outputs": [],
   "source": [
    "batman_df.info()"
   ]
  },
  {
   "cell_type": "code",
   "execution_count": null,
   "id": "add759ef",
   "metadata": {},
   "outputs": [],
   "source": [
    "# Read batman image and print dimensions\n",
    "import matplotlib.image as img\n",
    "batman_image = img.imread('batman.jpg')\n",
    "print(batman_image.shape)\n",
    "\n",
    "r =[]\n",
    "g = []\n",
    "b = []\n",
    "# Store RGB values of all pixels in lists r, g and b\n",
    "for row in batman_image:\n",
    "    for temp_r, temp_g, temp_b in row:\n",
    "        r.append(temp_r)\n",
    "        g.append(temp_g)\n",
    "        b.append(temp_b)"
   ]
  },
  {
   "cell_type": "markdown",
   "id": "c2486040",
   "metadata": {},
   "source": [
    "## How many dominant colors?"
   ]
  },
  {
   "cell_type": "code",
   "execution_count": null,
   "id": "7a716411",
   "metadata": {},
   "outputs": [],
   "source": [
    "batman_df.head()"
   ]
  },
  {
   "cell_type": "code",
   "execution_count": null,
   "id": "ade68cda",
   "metadata": {},
   "outputs": [],
   "source": [
    "batman_df.describe()"
   ]
  },
  {
   "cell_type": "code",
   "execution_count": null,
   "id": "c2a147c7",
   "metadata": {},
   "outputs": [],
   "source": [
    "batman_df.info"
   ]
  },
  {
   "cell_type": "code",
   "execution_count": null,
   "id": "f650a65e",
   "metadata": {},
   "outputs": [],
   "source": [
    "batman_df"
   ]
  },
  {
   "cell_type": "code",
   "execution_count": null,
   "id": "d3a9cba9",
   "metadata": {},
   "outputs": [],
   "source": []
  }
 ],
 "metadata": {
  "kernelspec": {
   "display_name": "Python 3 (ipykernel)",
   "language": "python",
   "name": "python3"
  },
  "language_info": {
   "codemirror_mode": {
    "name": "ipython",
    "version": 3
   },
   "file_extension": ".py",
   "mimetype": "text/x-python",
   "name": "python",
   "nbconvert_exporter": "python",
   "pygments_lexer": "ipython3",
   "version": "3.9.13"
  }
 },
 "nbformat": 4,
 "nbformat_minor": 5
}
